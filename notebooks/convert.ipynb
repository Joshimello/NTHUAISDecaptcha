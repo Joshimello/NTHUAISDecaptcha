{
 "cells": [
  {
   "cell_type": "code",
   "execution_count": 1,
   "metadata": {},
   "outputs": [],
   "source": [
    "import tensorflow as tf"
   ]
  },
  {
   "cell_type": "code",
   "execution_count": 2,
   "metadata": {},
   "outputs": [
    {
     "name": "stderr",
     "output_type": "stream",
     "text": [
      "WARNING:absl:No training configuration found in the save file, so the model was *not* compiled. Compile it manually.\n"
     ]
    }
   ],
   "source": [
    "model = tf.keras.models.load_model('../models/cnn_ctc_3d/model.h5')"
   ]
  },
  {
   "cell_type": "code",
   "execution_count": 3,
   "metadata": {},
   "outputs": [
    {
     "name": "stdout",
     "output_type": "stream",
     "text": [
      "INFO:tensorflow:Assets written to: saved_model\\assets\n"
     ]
    },
    {
     "name": "stderr",
     "output_type": "stream",
     "text": [
      "INFO:tensorflow:Assets written to: saved_model\\assets\n"
     ]
    },
    {
     "name": "stdout",
     "output_type": "stream",
     "text": [
      "Saved artifact at 'saved_model'. The following endpoints are available:\n",
      "\n",
      "* Endpoint 'serve'\n",
      "  args_0 (POSITIONAL_ONLY): TensorSpec(shape=(None, 42, 30, 1), dtype=tf.float32, name='image')\n",
      "Output Type:\n",
      "  TensorSpec(shape=(None, 10, 12), dtype=tf.float32, name=None)\n",
      "Captures:\n",
      "  3033677298000: TensorSpec(shape=(), dtype=tf.resource, name=None)\n",
      "  3033677298704: TensorSpec(shape=(), dtype=tf.resource, name=None)\n",
      "  3033677297824: TensorSpec(shape=(), dtype=tf.resource, name=None)\n",
      "  3033677299056: TensorSpec(shape=(), dtype=tf.resource, name=None)\n",
      "  3033677297472: TensorSpec(shape=(), dtype=tf.resource, name=None)\n",
      "  3033677299408: TensorSpec(shape=(), dtype=tf.resource, name=None)\n",
      "  3033677294656: TensorSpec(shape=(), dtype=tf.resource, name=None)\n",
      "  3033677294832: TensorSpec(shape=(), dtype=tf.resource, name=None)\n",
      "  3033677295536: TensorSpec(shape=(), dtype=tf.resource, name=None)\n",
      "  3033677292720: TensorSpec(shape=(), dtype=tf.resource, name=None)\n",
      "  3033677293424: TensorSpec(shape=(), dtype=tf.resource, name=None)\n",
      "  3033677295008: TensorSpec(shape=(), dtype=tf.resource, name=None)\n",
      "  3033677295360: TensorSpec(shape=(), dtype=tf.resource, name=None)\n",
      "  3033677296064: TensorSpec(shape=(), dtype=tf.resource, name=None)\n",
      "  3033677297296: TensorSpec(shape=(), dtype=tf.resource, name=None)\n",
      "  3033677292896: TensorSpec(shape=(), dtype=tf.resource, name=None)\n",
      "  3033677296768: TensorSpec(shape=(), dtype=tf.resource, name=None)\n",
      "  3033677295712: TensorSpec(shape=(), dtype=tf.resource, name=None)\n",
      "  3033677296416: TensorSpec(shape=(), dtype=tf.resource, name=None)\n",
      "  3033677295888: TensorSpec(shape=(), dtype=tf.resource, name=None)\n",
      "  3033677296592: TensorSpec(shape=(), dtype=tf.resource, name=None)\n",
      "  3033677293600: TensorSpec(shape=(), dtype=tf.resource, name=None)\n",
      "  3033677299232: TensorSpec(shape=(), dtype=tf.resource, name=None)\n",
      "  3033677297648: TensorSpec(shape=(), dtype=tf.resource, name=None)\n"
     ]
    }
   ],
   "source": [
    "model.export(\"saved_model\")"
   ]
  },
  {
   "cell_type": "code",
   "execution_count": 4,
   "metadata": {},
   "outputs": [],
   "source": [
    "converter = tf.lite.TFLiteConverter.from_saved_model('../models/cnn_ctc_3d/saved_model')\n",
    "converter.target_spec.supported_ops = [tf.lite.OpsSet.TFLITE_BUILTINS, tf.lite.OpsSet.SELECT_TF_OPS]\n",
    "converter.optimizations = [tf.lite.Optimize.DEFAULT]\n",
    "converter._experimental_lower_tensor_list_ops = False\n",
    "tflite_model = converter.convert()\n",
    "\n",
    "with open('model_quantized.tflite', 'wb') as f:\n",
    "  f.write(tflite_model)"
   ]
  }
 ],
 "metadata": {
  "kernelspec": {
   "display_name": ".venv",
   "language": "python",
   "name": "python3"
  },
  "language_info": {
   "codemirror_mode": {
    "name": "ipython",
    "version": 3
   },
   "file_extension": ".py",
   "mimetype": "text/x-python",
   "name": "python",
   "nbconvert_exporter": "python",
   "pygments_lexer": "ipython3",
   "version": "3.11.9"
  }
 },
 "nbformat": 4,
 "nbformat_minor": 2
}
